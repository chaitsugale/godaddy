{
 "cells": [
  {
   "cell_type": "code",
   "execution_count": 1,
   "id": "80aba2a6",
   "metadata": {
    "_cell_guid": "b1076dfc-b9ad-4769-8c92-a6c4dae69d19",
    "_uuid": "8f2839f25d086af736a60e9eeb907d3b93b6e0e5",
    "execution": {
     "iopub.execute_input": "2023-02-28T12:05:02.404344Z",
     "iopub.status.busy": "2023-02-28T12:05:02.403908Z",
     "iopub.status.idle": "2023-02-28T12:05:02.421372Z",
     "shell.execute_reply": "2023-02-28T12:05:02.420277Z"
    },
    "papermill": {
     "duration": 0.029676,
     "end_time": "2023-02-28T12:05:02.424049",
     "exception": false,
     "start_time": "2023-02-28T12:05:02.394373",
     "status": "completed"
    },
    "tags": []
   },
   "outputs": [
    {
     "name": "stdout",
     "output_type": "stream",
     "text": [
      "/kaggle/input/godaddy-microbusiness-density-forecasting/sample_submission.csv\n",
      "/kaggle/input/godaddy-microbusiness-density-forecasting/census_starter.csv\n",
      "/kaggle/input/godaddy-microbusiness-density-forecasting/revealed_test.csv\n",
      "/kaggle/input/godaddy-microbusiness-density-forecasting/train.csv\n",
      "/kaggle/input/godaddy-microbusiness-density-forecasting/test.csv\n",
      "/kaggle/input/usa-counties-coordinates/cfips_location.csv\n"
     ]
    }
   ],
   "source": [
    "# This Python 3 environment comes with many helpful analytics libraries installed\n",
    "# It is defined by the kaggle/python Docker image: https://github.com/kaggle/docker-python\n",
    "# For example, here's several helpful packages to load\n",
    "\n",
    "import numpy as np # linear algebra\n",
    "import pandas as pd # data processing, CSV file I/O (e.g. pd.read_csv)\n",
    "\n",
    "# Input data files are available in the read-only \"../input/\" directory\n",
    "# For example, running this (by clicking run or pressing Shift+Enter) will list all files under the input directory\n",
    "\n",
    "import os\n",
    "for dirname, _, filenames in os.walk('/kaggle/input'):\n",
    "    for filename in filenames:\n",
    "        print(os.path.join(dirname, filename))\n",
    "\n",
    "# You can write up to 20GB to the current directory (/kaggle/working/) that gets preserved as output when you create a version using \"Save & Run All\" \n",
    "# You can also write temporary files to /kaggle/temp/, but they won't be saved outside of the current session"
   ]
  },
  {
   "cell_type": "code",
   "execution_count": 2,
   "id": "825fb273",
   "metadata": {
    "execution": {
     "iopub.execute_input": "2023-02-28T12:05:02.439311Z",
     "iopub.status.busy": "2023-02-28T12:05:02.438695Z",
     "iopub.status.idle": "2023-02-28T12:05:02.488907Z",
     "shell.execute_reply": "2023-02-28T12:05:02.487527Z"
    },
    "papermill": {
     "duration": 0.060757,
     "end_time": "2023-02-28T12:05:02.491626",
     "exception": false,
     "start_time": "2023-02-28T12:05:02.430869",
     "status": "completed"
    },
    "tags": []
   },
   "outputs": [],
   "source": [
    "godaddy_census = pd.read_csv('/kaggle/input/godaddy-microbusiness-density-forecasting/census_starter.csv')"
   ]
  },
  {
   "cell_type": "code",
   "execution_count": 3,
   "id": "2a7178e3",
   "metadata": {
    "execution": {
     "iopub.execute_input": "2023-02-28T12:05:02.510917Z",
     "iopub.status.busy": "2023-02-28T12:05:02.509939Z",
     "iopub.status.idle": "2023-02-28T12:05:02.517499Z",
     "shell.execute_reply": "2023-02-28T12:05:02.516522Z"
    },
    "papermill": {
     "duration": 0.021651,
     "end_time": "2023-02-28T12:05:02.521415",
     "exception": false,
     "start_time": "2023-02-28T12:05:02.499764",
     "status": "completed"
    },
    "tags": []
   },
   "outputs": [
    {
     "name": "stdout",
     "output_type": "stream",
     "text": [
      "Index(['pct_bb_2017', 'pct_bb_2018', 'pct_bb_2019', 'pct_bb_2020',\n",
      "       'pct_bb_2021', 'cfips', 'pct_college_2017', 'pct_college_2018',\n",
      "       'pct_college_2019', 'pct_college_2020', 'pct_college_2021',\n",
      "       'pct_foreign_born_2017', 'pct_foreign_born_2018',\n",
      "       'pct_foreign_born_2019', 'pct_foreign_born_2020',\n",
      "       'pct_foreign_born_2021', 'pct_it_workers_2017', 'pct_it_workers_2018',\n",
      "       'pct_it_workers_2019', 'pct_it_workers_2020', 'pct_it_workers_2021',\n",
      "       'median_hh_inc_2017', 'median_hh_inc_2018', 'median_hh_inc_2019',\n",
      "       'median_hh_inc_2020', 'median_hh_inc_2021'],\n",
      "      dtype='object')\n"
     ]
    }
   ],
   "source": [
    "print(godaddy_census.columns)"
   ]
  },
  {
   "cell_type": "code",
   "execution_count": 4,
   "id": "b3494d4b",
   "metadata": {
    "execution": {
     "iopub.execute_input": "2023-02-28T12:05:02.539942Z",
     "iopub.status.busy": "2023-02-28T12:05:02.539093Z",
     "iopub.status.idle": "2023-02-28T12:05:02.582691Z",
     "shell.execute_reply": "2023-02-28T12:05:02.581460Z"
    },
    "papermill": {
     "duration": 0.054528,
     "end_time": "2023-02-28T12:05:02.585148",
     "exception": false,
     "start_time": "2023-02-28T12:05:02.530620",
     "status": "completed"
    },
    "tags": []
   },
   "outputs": [
    {
     "data": {
      "text/html": [
       "<div>\n",
       "<style scoped>\n",
       "    .dataframe tbody tr th:only-of-type {\n",
       "        vertical-align: middle;\n",
       "    }\n",
       "\n",
       "    .dataframe tbody tr th {\n",
       "        vertical-align: top;\n",
       "    }\n",
       "\n",
       "    .dataframe thead th {\n",
       "        text-align: right;\n",
       "    }\n",
       "</style>\n",
       "<table border=\"1\" class=\"dataframe\">\n",
       "  <thead>\n",
       "    <tr style=\"text-align: right;\">\n",
       "      <th></th>\n",
       "      <th>pct_bb_2017</th>\n",
       "      <th>pct_bb_2018</th>\n",
       "      <th>pct_bb_2019</th>\n",
       "      <th>pct_bb_2020</th>\n",
       "      <th>pct_bb_2021</th>\n",
       "      <th>cfips</th>\n",
       "      <th>pct_college_2017</th>\n",
       "      <th>pct_college_2018</th>\n",
       "      <th>pct_college_2019</th>\n",
       "      <th>pct_college_2020</th>\n",
       "      <th>...</th>\n",
       "      <th>pct_it_workers_2017</th>\n",
       "      <th>pct_it_workers_2018</th>\n",
       "      <th>pct_it_workers_2019</th>\n",
       "      <th>pct_it_workers_2020</th>\n",
       "      <th>pct_it_workers_2021</th>\n",
       "      <th>median_hh_inc_2017</th>\n",
       "      <th>median_hh_inc_2018</th>\n",
       "      <th>median_hh_inc_2019</th>\n",
       "      <th>median_hh_inc_2020</th>\n",
       "      <th>median_hh_inc_2021</th>\n",
       "    </tr>\n",
       "  </thead>\n",
       "  <tbody>\n",
       "    <tr>\n",
       "      <th>0</th>\n",
       "      <td>76.6</td>\n",
       "      <td>78.9</td>\n",
       "      <td>80.6</td>\n",
       "      <td>82.7</td>\n",
       "      <td>85.5</td>\n",
       "      <td>1001</td>\n",
       "      <td>14.5</td>\n",
       "      <td>15.9</td>\n",
       "      <td>16.1</td>\n",
       "      <td>16.7</td>\n",
       "      <td>...</td>\n",
       "      <td>1.3</td>\n",
       "      <td>1.1</td>\n",
       "      <td>0.7</td>\n",
       "      <td>0.6</td>\n",
       "      <td>1.1</td>\n",
       "      <td>55317</td>\n",
       "      <td>58786.0</td>\n",
       "      <td>58731</td>\n",
       "      <td>57982.0</td>\n",
       "      <td>62660.0</td>\n",
       "    </tr>\n",
       "    <tr>\n",
       "      <th>1</th>\n",
       "      <td>74.5</td>\n",
       "      <td>78.1</td>\n",
       "      <td>81.8</td>\n",
       "      <td>85.1</td>\n",
       "      <td>87.9</td>\n",
       "      <td>1003</td>\n",
       "      <td>20.4</td>\n",
       "      <td>20.7</td>\n",
       "      <td>21.0</td>\n",
       "      <td>20.2</td>\n",
       "      <td>...</td>\n",
       "      <td>1.4</td>\n",
       "      <td>1.3</td>\n",
       "      <td>1.4</td>\n",
       "      <td>1.0</td>\n",
       "      <td>1.3</td>\n",
       "      <td>52562</td>\n",
       "      <td>55962.0</td>\n",
       "      <td>58320</td>\n",
       "      <td>61756.0</td>\n",
       "      <td>64346.0</td>\n",
       "    </tr>\n",
       "    <tr>\n",
       "      <th>2</th>\n",
       "      <td>57.2</td>\n",
       "      <td>60.4</td>\n",
       "      <td>60.5</td>\n",
       "      <td>64.6</td>\n",
       "      <td>64.6</td>\n",
       "      <td>1005</td>\n",
       "      <td>7.6</td>\n",
       "      <td>7.8</td>\n",
       "      <td>7.6</td>\n",
       "      <td>7.3</td>\n",
       "      <td>...</td>\n",
       "      <td>0.5</td>\n",
       "      <td>0.3</td>\n",
       "      <td>0.8</td>\n",
       "      <td>1.1</td>\n",
       "      <td>0.8</td>\n",
       "      <td>33368</td>\n",
       "      <td>34186.0</td>\n",
       "      <td>32525</td>\n",
       "      <td>34990.0</td>\n",
       "      <td>36422.0</td>\n",
       "    </tr>\n",
       "    <tr>\n",
       "      <th>3</th>\n",
       "      <td>62.0</td>\n",
       "      <td>66.1</td>\n",
       "      <td>69.2</td>\n",
       "      <td>76.1</td>\n",
       "      <td>74.6</td>\n",
       "      <td>1007</td>\n",
       "      <td>8.1</td>\n",
       "      <td>7.6</td>\n",
       "      <td>6.5</td>\n",
       "      <td>7.4</td>\n",
       "      <td>...</td>\n",
       "      <td>1.2</td>\n",
       "      <td>1.4</td>\n",
       "      <td>1.6</td>\n",
       "      <td>1.7</td>\n",
       "      <td>2.1</td>\n",
       "      <td>43404</td>\n",
       "      <td>45340.0</td>\n",
       "      <td>47542</td>\n",
       "      <td>51721.0</td>\n",
       "      <td>54277.0</td>\n",
       "    </tr>\n",
       "    <tr>\n",
       "      <th>4</th>\n",
       "      <td>65.8</td>\n",
       "      <td>68.5</td>\n",
       "      <td>73.0</td>\n",
       "      <td>79.6</td>\n",
       "      <td>81.0</td>\n",
       "      <td>1009</td>\n",
       "      <td>8.7</td>\n",
       "      <td>8.1</td>\n",
       "      <td>8.6</td>\n",
       "      <td>8.9</td>\n",
       "      <td>...</td>\n",
       "      <td>1.3</td>\n",
       "      <td>1.4</td>\n",
       "      <td>0.9</td>\n",
       "      <td>1.1</td>\n",
       "      <td>0.9</td>\n",
       "      <td>47412</td>\n",
       "      <td>48695.0</td>\n",
       "      <td>49358</td>\n",
       "      <td>48922.0</td>\n",
       "      <td>52830.0</td>\n",
       "    </tr>\n",
       "  </tbody>\n",
       "</table>\n",
       "<p>5 rows × 26 columns</p>\n",
       "</div>"
      ],
      "text/plain": [
       "   pct_bb_2017  pct_bb_2018  pct_bb_2019  pct_bb_2020  pct_bb_2021  cfips  \\\n",
       "0         76.6         78.9         80.6         82.7         85.5   1001   \n",
       "1         74.5         78.1         81.8         85.1         87.9   1003   \n",
       "2         57.2         60.4         60.5         64.6         64.6   1005   \n",
       "3         62.0         66.1         69.2         76.1         74.6   1007   \n",
       "4         65.8         68.5         73.0         79.6         81.0   1009   \n",
       "\n",
       "   pct_college_2017  pct_college_2018  pct_college_2019  pct_college_2020  \\\n",
       "0              14.5              15.9              16.1              16.7   \n",
       "1              20.4              20.7              21.0              20.2   \n",
       "2               7.6               7.8               7.6               7.3   \n",
       "3               8.1               7.6               6.5               7.4   \n",
       "4               8.7               8.1               8.6               8.9   \n",
       "\n",
       "   ...  pct_it_workers_2017  pct_it_workers_2018  pct_it_workers_2019  \\\n",
       "0  ...                  1.3                  1.1                  0.7   \n",
       "1  ...                  1.4                  1.3                  1.4   \n",
       "2  ...                  0.5                  0.3                  0.8   \n",
       "3  ...                  1.2                  1.4                  1.6   \n",
       "4  ...                  1.3                  1.4                  0.9   \n",
       "\n",
       "   pct_it_workers_2020  pct_it_workers_2021  median_hh_inc_2017  \\\n",
       "0                  0.6                  1.1               55317   \n",
       "1                  1.0                  1.3               52562   \n",
       "2                  1.1                  0.8               33368   \n",
       "3                  1.7                  2.1               43404   \n",
       "4                  1.1                  0.9               47412   \n",
       "\n",
       "   median_hh_inc_2018  median_hh_inc_2019  median_hh_inc_2020  \\\n",
       "0             58786.0               58731             57982.0   \n",
       "1             55962.0               58320             61756.0   \n",
       "2             34186.0               32525             34990.0   \n",
       "3             45340.0               47542             51721.0   \n",
       "4             48695.0               49358             48922.0   \n",
       "\n",
       "   median_hh_inc_2021  \n",
       "0             62660.0  \n",
       "1             64346.0  \n",
       "2             36422.0  \n",
       "3             54277.0  \n",
       "4             52830.0  \n",
       "\n",
       "[5 rows x 26 columns]"
      ]
     },
     "execution_count": 4,
     "metadata": {},
     "output_type": "execute_result"
    }
   ],
   "source": [
    "godaddy_census.head()"
   ]
  },
  {
   "cell_type": "code",
   "execution_count": 5,
   "id": "814d4325",
   "metadata": {
    "execution": {
     "iopub.execute_input": "2023-02-28T12:05:02.602075Z",
     "iopub.status.busy": "2023-02-28T12:05:02.600937Z",
     "iopub.status.idle": "2023-02-28T12:05:02.925812Z",
     "shell.execute_reply": "2023-02-28T12:05:02.924764Z"
    },
    "papermill": {
     "duration": 0.336131,
     "end_time": "2023-02-28T12:05:02.928599",
     "exception": false,
     "start_time": "2023-02-28T12:05:02.592468",
     "status": "completed"
    },
    "tags": []
   },
   "outputs": [],
   "source": [
    "godaddy_revealed = pd.read_csv('/kaggle/input/godaddy-microbusiness-density-forecasting/revealed_test.csv')\n",
    "godaddy_train = pd.read_csv('/kaggle/input/godaddy-microbusiness-density-forecasting/train.csv')"
   ]
  },
  {
   "cell_type": "code",
   "execution_count": 6,
   "id": "f4d415b8",
   "metadata": {
    "execution": {
     "iopub.execute_input": "2023-02-28T12:05:02.944998Z",
     "iopub.status.busy": "2023-02-28T12:05:02.944617Z",
     "iopub.status.idle": "2023-02-28T12:05:02.951312Z",
     "shell.execute_reply": "2023-02-28T12:05:02.950234Z"
    },
    "papermill": {
     "duration": 0.019789,
     "end_time": "2023-02-28T12:05:02.955650",
     "exception": false,
     "start_time": "2023-02-28T12:05:02.935861",
     "status": "completed"
    },
    "tags": []
   },
   "outputs": [
    {
     "name": "stdout",
     "output_type": "stream",
     "text": [
      "Index(['row_id', 'cfips', 'county', 'state', 'first_day_of_month',\n",
      "       'microbusiness_density', 'active'],\n",
      "      dtype='object')\n"
     ]
    }
   ],
   "source": [
    "print(godaddy_train.columns)"
   ]
  },
  {
   "cell_type": "code",
   "execution_count": 7,
   "id": "04439921",
   "metadata": {
    "execution": {
     "iopub.execute_input": "2023-02-28T12:05:02.975040Z",
     "iopub.status.busy": "2023-02-28T12:05:02.973757Z",
     "iopub.status.idle": "2023-02-28T12:05:02.980021Z",
     "shell.execute_reply": "2023-02-28T12:05:02.978897Z"
    },
    "papermill": {
     "duration": 0.017829,
     "end_time": "2023-02-28T12:05:02.982713",
     "exception": false,
     "start_time": "2023-02-28T12:05:02.964884",
     "status": "completed"
    },
    "tags": []
   },
   "outputs": [
    {
     "name": "stdout",
     "output_type": "stream",
     "text": [
      "Index(['row_id', 'cfips', 'county', 'state', 'first_day_of_month',\n",
      "       'microbusiness_density', 'active'],\n",
      "      dtype='object')\n"
     ]
    }
   ],
   "source": [
    "print(godaddy_revealed.columns)"
   ]
  },
  {
   "cell_type": "code",
   "execution_count": 8,
   "id": "0e3f21b5",
   "metadata": {
    "execution": {
     "iopub.execute_input": "2023-02-28T12:05:03.000036Z",
     "iopub.status.busy": "2023-02-28T12:05:02.999218Z",
     "iopub.status.idle": "2023-02-28T12:05:03.012502Z",
     "shell.execute_reply": "2023-02-28T12:05:03.011329Z"
    },
    "papermill": {
     "duration": 0.024718,
     "end_time": "2023-02-28T12:05:03.015217",
     "exception": false,
     "start_time": "2023-02-28T12:05:02.990499",
     "status": "completed"
    },
    "tags": []
   },
   "outputs": [
    {
     "data": {
      "text/html": [
       "<div>\n",
       "<style scoped>\n",
       "    .dataframe tbody tr th:only-of-type {\n",
       "        vertical-align: middle;\n",
       "    }\n",
       "\n",
       "    .dataframe tbody tr th {\n",
       "        vertical-align: top;\n",
       "    }\n",
       "\n",
       "    .dataframe thead th {\n",
       "        text-align: right;\n",
       "    }\n",
       "</style>\n",
       "<table border=\"1\" class=\"dataframe\">\n",
       "  <thead>\n",
       "    <tr style=\"text-align: right;\">\n",
       "      <th></th>\n",
       "      <th>row_id</th>\n",
       "      <th>cfips</th>\n",
       "      <th>county</th>\n",
       "      <th>state</th>\n",
       "      <th>first_day_of_month</th>\n",
       "      <th>microbusiness_density</th>\n",
       "      <th>active</th>\n",
       "    </tr>\n",
       "  </thead>\n",
       "  <tbody>\n",
       "    <tr>\n",
       "      <th>0</th>\n",
       "      <td>1001_2019-08-01</td>\n",
       "      <td>1001</td>\n",
       "      <td>Autauga County</td>\n",
       "      <td>Alabama</td>\n",
       "      <td>2019-08-01</td>\n",
       "      <td>3.007682</td>\n",
       "      <td>1249</td>\n",
       "    </tr>\n",
       "    <tr>\n",
       "      <th>1</th>\n",
       "      <td>1001_2019-09-01</td>\n",
       "      <td>1001</td>\n",
       "      <td>Autauga County</td>\n",
       "      <td>Alabama</td>\n",
       "      <td>2019-09-01</td>\n",
       "      <td>2.884870</td>\n",
       "      <td>1198</td>\n",
       "    </tr>\n",
       "    <tr>\n",
       "      <th>2</th>\n",
       "      <td>1001_2019-10-01</td>\n",
       "      <td>1001</td>\n",
       "      <td>Autauga County</td>\n",
       "      <td>Alabama</td>\n",
       "      <td>2019-10-01</td>\n",
       "      <td>3.055843</td>\n",
       "      <td>1269</td>\n",
       "    </tr>\n",
       "    <tr>\n",
       "      <th>3</th>\n",
       "      <td>1001_2019-11-01</td>\n",
       "      <td>1001</td>\n",
       "      <td>Autauga County</td>\n",
       "      <td>Alabama</td>\n",
       "      <td>2019-11-01</td>\n",
       "      <td>2.993233</td>\n",
       "      <td>1243</td>\n",
       "    </tr>\n",
       "    <tr>\n",
       "      <th>4</th>\n",
       "      <td>1001_2019-12-01</td>\n",
       "      <td>1001</td>\n",
       "      <td>Autauga County</td>\n",
       "      <td>Alabama</td>\n",
       "      <td>2019-12-01</td>\n",
       "      <td>2.993233</td>\n",
       "      <td>1243</td>\n",
       "    </tr>\n",
       "  </tbody>\n",
       "</table>\n",
       "</div>"
      ],
      "text/plain": [
       "            row_id  cfips          county    state first_day_of_month  \\\n",
       "0  1001_2019-08-01   1001  Autauga County  Alabama         2019-08-01   \n",
       "1  1001_2019-09-01   1001  Autauga County  Alabama         2019-09-01   \n",
       "2  1001_2019-10-01   1001  Autauga County  Alabama         2019-10-01   \n",
       "3  1001_2019-11-01   1001  Autauga County  Alabama         2019-11-01   \n",
       "4  1001_2019-12-01   1001  Autauga County  Alabama         2019-12-01   \n",
       "\n",
       "   microbusiness_density  active  \n",
       "0               3.007682    1249  \n",
       "1               2.884870    1198  \n",
       "2               3.055843    1269  \n",
       "3               2.993233    1243  \n",
       "4               2.993233    1243  "
      ]
     },
     "execution_count": 8,
     "metadata": {},
     "output_type": "execute_result"
    }
   ],
   "source": [
    "godaddy_train.head()"
   ]
  },
  {
   "cell_type": "code",
   "execution_count": 9,
   "id": "270fe49a",
   "metadata": {
    "execution": {
     "iopub.execute_input": "2023-02-28T12:05:03.031933Z",
     "iopub.status.busy": "2023-02-28T12:05:03.031497Z",
     "iopub.status.idle": "2023-02-28T12:05:03.038255Z",
     "shell.execute_reply": "2023-02-28T12:05:03.037220Z"
    },
    "papermill": {
     "duration": 0.017571,
     "end_time": "2023-02-28T12:05:03.040421",
     "exception": false,
     "start_time": "2023-02-28T12:05:03.022850",
     "status": "completed"
    },
    "tags": []
   },
   "outputs": [
    {
     "data": {
      "text/plain": [
       "(122265, 7)"
      ]
     },
     "execution_count": 9,
     "metadata": {},
     "output_type": "execute_result"
    }
   ],
   "source": [
    "godaddy_train.shape"
   ]
  },
  {
   "cell_type": "code",
   "execution_count": null,
   "id": "a6bc062b",
   "metadata": {
    "papermill": {
     "duration": 0.008527,
     "end_time": "2023-02-28T12:05:03.056462",
     "exception": false,
     "start_time": "2023-02-28T12:05:03.047935",
     "status": "completed"
    },
    "tags": []
   },
   "outputs": [],
   "source": []
  },
  {
   "cell_type": "raw",
   "id": "8a6b7920",
   "metadata": {
    "execution": {
     "iopub.execute_input": "2023-02-25T06:16:24.177605Z",
     "iopub.status.busy": "2023-02-25T06:16:24.177192Z",
     "iopub.status.idle": "2023-02-25T06:16:24.189384Z",
     "shell.execute_reply": "2023-02-25T06:16:24.188696Z",
     "shell.execute_reply.started": "2023-02-25T06:16:24.177567Z"
    },
    "papermill": {
     "duration": 0.007101,
     "end_time": "2023-02-28T12:05:03.070989",
     "exception": false,
     "start_time": "2023-02-28T12:05:03.063888",
     "status": "completed"
    },
    "tags": []
   },
   "source": [
    "godaddy_revealed.head()"
   ]
  },
  {
   "cell_type": "code",
   "execution_count": 10,
   "id": "d5eed8ac",
   "metadata": {
    "execution": {
     "iopub.execute_input": "2023-02-28T12:05:03.088299Z",
     "iopub.status.busy": "2023-02-28T12:05:03.087200Z",
     "iopub.status.idle": "2023-02-28T12:05:03.199302Z",
     "shell.execute_reply": "2023-02-28T12:05:03.198120Z"
    },
    "papermill": {
     "duration": 0.123541,
     "end_time": "2023-02-28T12:05:03.202051",
     "exception": false,
     "start_time": "2023-02-28T12:05:03.078510",
     "status": "completed"
    },
    "tags": []
   },
   "outputs": [],
   "source": [
    "godaddy_train = pd.concat([godaddy_train,godaddy_revealed]).sort_values(by = ['cfips','first_day_of_month']).reset_index()"
   ]
  },
  {
   "cell_type": "code",
   "execution_count": 11,
   "id": "3af5bf0a",
   "metadata": {
    "execution": {
     "iopub.execute_input": "2023-02-28T12:05:03.219664Z",
     "iopub.status.busy": "2023-02-28T12:05:03.219046Z",
     "iopub.status.idle": "2023-02-28T12:05:03.224358Z",
     "shell.execute_reply": "2023-02-28T12:05:03.223597Z"
    },
    "papermill": {
     "duration": 0.016657,
     "end_time": "2023-02-28T12:05:03.226379",
     "exception": false,
     "start_time": "2023-02-28T12:05:03.209722",
     "status": "completed"
    },
    "tags": []
   },
   "outputs": [
    {
     "data": {
      "text/plain": [
       "(128535, 8)"
      ]
     },
     "execution_count": 11,
     "metadata": {},
     "output_type": "execute_result"
    }
   ],
   "source": [
    "godaddy_train.shape"
   ]
  },
  {
   "cell_type": "code",
   "execution_count": 12,
   "id": "de11c0ef",
   "metadata": {
    "execution": {
     "iopub.execute_input": "2023-02-28T12:05:03.243740Z",
     "iopub.status.busy": "2023-02-28T12:05:03.242890Z",
     "iopub.status.idle": "2023-02-28T12:05:03.286872Z",
     "shell.execute_reply": "2023-02-28T12:05:03.285828Z"
    },
    "papermill": {
     "duration": 0.055401,
     "end_time": "2023-02-28T12:05:03.289422",
     "exception": false,
     "start_time": "2023-02-28T12:05:03.234021",
     "status": "completed"
    },
    "tags": []
   },
   "outputs": [],
   "source": [
    "godaddy_test = pd.read_csv('/kaggle/input/godaddy-microbusiness-density-forecasting/test.csv')"
   ]
  },
  {
   "cell_type": "code",
   "execution_count": 13,
   "id": "1affa0e7",
   "metadata": {
    "execution": {
     "iopub.execute_input": "2023-02-28T12:05:03.306570Z",
     "iopub.status.busy": "2023-02-28T12:05:03.306145Z",
     "iopub.status.idle": "2023-02-28T12:05:03.312414Z",
     "shell.execute_reply": "2023-02-28T12:05:03.311332Z"
    },
    "papermill": {
     "duration": 0.017328,
     "end_time": "2023-02-28T12:05:03.314512",
     "exception": false,
     "start_time": "2023-02-28T12:05:03.297184",
     "status": "completed"
    },
    "tags": []
   },
   "outputs": [
    {
     "data": {
      "text/plain": [
       "(25080, 3)"
      ]
     },
     "execution_count": 13,
     "metadata": {},
     "output_type": "execute_result"
    }
   ],
   "source": [
    "godaddy_test.shape"
   ]
  },
  {
   "cell_type": "code",
   "execution_count": 14,
   "id": "60550198",
   "metadata": {
    "execution": {
     "iopub.execute_input": "2023-02-28T12:05:03.332047Z",
     "iopub.status.busy": "2023-02-28T12:05:03.331095Z",
     "iopub.status.idle": "2023-02-28T12:05:03.337851Z",
     "shell.execute_reply": "2023-02-28T12:05:03.336678Z"
    },
    "papermill": {
     "duration": 0.018162,
     "end_time": "2023-02-28T12:05:03.340280",
     "exception": false,
     "start_time": "2023-02-28T12:05:03.322118",
     "status": "completed"
    },
    "tags": []
   },
   "outputs": [
    {
     "name": "stdout",
     "output_type": "stream",
     "text": [
      "Index(['row_id', 'cfips', 'first_day_of_month'], dtype='object')\n"
     ]
    }
   ],
   "source": [
    "print(godaddy_test.columns)"
   ]
  },
  {
   "cell_type": "code",
   "execution_count": 15,
   "id": "61ff5ba0",
   "metadata": {
    "execution": {
     "iopub.execute_input": "2023-02-28T12:05:03.356977Z",
     "iopub.status.busy": "2023-02-28T12:05:03.356613Z",
     "iopub.status.idle": "2023-02-28T12:05:03.367660Z",
     "shell.execute_reply": "2023-02-28T12:05:03.366632Z"
    },
    "papermill": {
     "duration": 0.022035,
     "end_time": "2023-02-28T12:05:03.369955",
     "exception": false,
     "start_time": "2023-02-28T12:05:03.347920",
     "status": "completed"
    },
    "tags": []
   },
   "outputs": [
    {
     "data": {
      "text/html": [
       "<div>\n",
       "<style scoped>\n",
       "    .dataframe tbody tr th:only-of-type {\n",
       "        vertical-align: middle;\n",
       "    }\n",
       "\n",
       "    .dataframe tbody tr th {\n",
       "        vertical-align: top;\n",
       "    }\n",
       "\n",
       "    .dataframe thead th {\n",
       "        text-align: right;\n",
       "    }\n",
       "</style>\n",
       "<table border=\"1\" class=\"dataframe\">\n",
       "  <thead>\n",
       "    <tr style=\"text-align: right;\">\n",
       "      <th></th>\n",
       "      <th>row_id</th>\n",
       "      <th>cfips</th>\n",
       "      <th>first_day_of_month</th>\n",
       "    </tr>\n",
       "  </thead>\n",
       "  <tbody>\n",
       "    <tr>\n",
       "      <th>0</th>\n",
       "      <td>1001_2022-11-01</td>\n",
       "      <td>1001</td>\n",
       "      <td>2022-11-01</td>\n",
       "    </tr>\n",
       "    <tr>\n",
       "      <th>1</th>\n",
       "      <td>1003_2022-11-01</td>\n",
       "      <td>1003</td>\n",
       "      <td>2022-11-01</td>\n",
       "    </tr>\n",
       "    <tr>\n",
       "      <th>2</th>\n",
       "      <td>1005_2022-11-01</td>\n",
       "      <td>1005</td>\n",
       "      <td>2022-11-01</td>\n",
       "    </tr>\n",
       "    <tr>\n",
       "      <th>3</th>\n",
       "      <td>1007_2022-11-01</td>\n",
       "      <td>1007</td>\n",
       "      <td>2022-11-01</td>\n",
       "    </tr>\n",
       "    <tr>\n",
       "      <th>4</th>\n",
       "      <td>1009_2022-11-01</td>\n",
       "      <td>1009</td>\n",
       "      <td>2022-11-01</td>\n",
       "    </tr>\n",
       "  </tbody>\n",
       "</table>\n",
       "</div>"
      ],
      "text/plain": [
       "            row_id  cfips first_day_of_month\n",
       "0  1001_2022-11-01   1001         2022-11-01\n",
       "1  1003_2022-11-01   1003         2022-11-01\n",
       "2  1005_2022-11-01   1005         2022-11-01\n",
       "3  1007_2022-11-01   1007         2022-11-01\n",
       "4  1009_2022-11-01   1009         2022-11-01"
      ]
     },
     "execution_count": 15,
     "metadata": {},
     "output_type": "execute_result"
    }
   ],
   "source": [
    "godaddy_test.head()"
   ]
  },
  {
   "cell_type": "code",
   "execution_count": 16,
   "id": "f1961aee",
   "metadata": {
    "execution": {
     "iopub.execute_input": "2023-02-28T12:05:03.388230Z",
     "iopub.status.busy": "2023-02-28T12:05:03.387454Z",
     "iopub.status.idle": "2023-02-28T12:05:03.400105Z",
     "shell.execute_reply": "2023-02-28T12:05:03.397291Z"
    },
    "papermill": {
     "duration": 0.024556,
     "end_time": "2023-02-28T12:05:03.402619",
     "exception": false,
     "start_time": "2023-02-28T12:05:03.378063",
     "status": "completed"
    },
    "tags": []
   },
   "outputs": [],
   "source": [
    "drop_index = (godaddy_test.first_day_of_month == '2022-11-01') | (godaddy_test.first_day_of_month == '2022-12-01')"
   ]
  },
  {
   "cell_type": "code",
   "execution_count": 17,
   "id": "2be9617e",
   "metadata": {
    "execution": {
     "iopub.execute_input": "2023-02-28T12:05:03.420786Z",
     "iopub.status.busy": "2023-02-28T12:05:03.419901Z",
     "iopub.status.idle": "2023-02-28T12:05:03.426541Z",
     "shell.execute_reply": "2023-02-28T12:05:03.425450Z"
    },
    "papermill": {
     "duration": 0.018415,
     "end_time": "2023-02-28T12:05:03.429106",
     "exception": false,
     "start_time": "2023-02-28T12:05:03.410691",
     "status": "completed"
    },
    "tags": []
   },
   "outputs": [],
   "source": [
    "godaddy_test = godaddy_test.loc[~drop_index,:]"
   ]
  },
  {
   "cell_type": "code",
   "execution_count": 18,
   "id": "fad53750",
   "metadata": {
    "execution": {
     "iopub.execute_input": "2023-02-28T12:05:03.447289Z",
     "iopub.status.busy": "2023-02-28T12:05:03.446869Z",
     "iopub.status.idle": "2023-02-28T12:05:03.453174Z",
     "shell.execute_reply": "2023-02-28T12:05:03.452328Z"
    },
    "papermill": {
     "duration": 0.017615,
     "end_time": "2023-02-28T12:05:03.455175",
     "exception": false,
     "start_time": "2023-02-28T12:05:03.437560",
     "status": "completed"
    },
    "tags": []
   },
   "outputs": [
    {
     "data": {
      "text/plain": [
       "(18810, 3)"
      ]
     },
     "execution_count": 18,
     "metadata": {},
     "output_type": "execute_result"
    }
   ],
   "source": [
    "godaddy_test.shape"
   ]
  },
  {
   "cell_type": "code",
   "execution_count": 19,
   "id": "2b5cdbf9",
   "metadata": {
    "execution": {
     "iopub.execute_input": "2023-02-28T12:05:03.474227Z",
     "iopub.status.busy": "2023-02-28T12:05:03.473194Z",
     "iopub.status.idle": "2023-02-28T12:05:03.485325Z",
     "shell.execute_reply": "2023-02-28T12:05:03.484237Z"
    },
    "papermill": {
     "duration": 0.024403,
     "end_time": "2023-02-28T12:05:03.487627",
     "exception": false,
     "start_time": "2023-02-28T12:05:03.463224",
     "status": "completed"
    },
    "tags": []
   },
   "outputs": [
    {
     "data": {
      "text/html": [
       "<div>\n",
       "<style scoped>\n",
       "    .dataframe tbody tr th:only-of-type {\n",
       "        vertical-align: middle;\n",
       "    }\n",
       "\n",
       "    .dataframe tbody tr th {\n",
       "        vertical-align: top;\n",
       "    }\n",
       "\n",
       "    .dataframe thead th {\n",
       "        text-align: right;\n",
       "    }\n",
       "</style>\n",
       "<table border=\"1\" class=\"dataframe\">\n",
       "  <thead>\n",
       "    <tr style=\"text-align: right;\">\n",
       "      <th></th>\n",
       "      <th>row_id</th>\n",
       "      <th>cfips</th>\n",
       "      <th>first_day_of_month</th>\n",
       "    </tr>\n",
       "  </thead>\n",
       "  <tbody>\n",
       "    <tr>\n",
       "      <th>6270</th>\n",
       "      <td>1001_2023-01-01</td>\n",
       "      <td>1001</td>\n",
       "      <td>2023-01-01</td>\n",
       "    </tr>\n",
       "    <tr>\n",
       "      <th>6271</th>\n",
       "      <td>1003_2023-01-01</td>\n",
       "      <td>1003</td>\n",
       "      <td>2023-01-01</td>\n",
       "    </tr>\n",
       "    <tr>\n",
       "      <th>6272</th>\n",
       "      <td>1005_2023-01-01</td>\n",
       "      <td>1005</td>\n",
       "      <td>2023-01-01</td>\n",
       "    </tr>\n",
       "    <tr>\n",
       "      <th>6273</th>\n",
       "      <td>1007_2023-01-01</td>\n",
       "      <td>1007</td>\n",
       "      <td>2023-01-01</td>\n",
       "    </tr>\n",
       "    <tr>\n",
       "      <th>6274</th>\n",
       "      <td>1009_2023-01-01</td>\n",
       "      <td>1009</td>\n",
       "      <td>2023-01-01</td>\n",
       "    </tr>\n",
       "  </tbody>\n",
       "</table>\n",
       "</div>"
      ],
      "text/plain": [
       "               row_id  cfips first_day_of_month\n",
       "6270  1001_2023-01-01   1001         2023-01-01\n",
       "6271  1003_2023-01-01   1003         2023-01-01\n",
       "6272  1005_2023-01-01   1005         2023-01-01\n",
       "6273  1007_2023-01-01   1007         2023-01-01\n",
       "6274  1009_2023-01-01   1009         2023-01-01"
      ]
     },
     "execution_count": 19,
     "metadata": {},
     "output_type": "execute_result"
    }
   ],
   "source": [
    "godaddy_test.head()"
   ]
  },
  {
   "cell_type": "code",
   "execution_count": 20,
   "id": "7b1732e2",
   "metadata": {
    "execution": {
     "iopub.execute_input": "2023-02-28T12:05:03.506204Z",
     "iopub.status.busy": "2023-02-28T12:05:03.505787Z",
     "iopub.status.idle": "2023-02-28T12:05:03.517689Z",
     "shell.execute_reply": "2023-02-28T12:05:03.516767Z"
    },
    "papermill": {
     "duration": 0.02381,
     "end_time": "2023-02-28T12:05:03.520016",
     "exception": false,
     "start_time": "2023-02-28T12:05:03.496206",
     "status": "completed"
    },
    "tags": []
   },
   "outputs": [],
   "source": [
    "godaddy_coordinates  = pd.read_csv('/kaggle/input/usa-counties-coordinates/cfips_location.csv')"
   ]
  },
  {
   "cell_type": "code",
   "execution_count": 21,
   "id": "8ea084dd",
   "metadata": {
    "execution": {
     "iopub.execute_input": "2023-02-28T12:05:03.539145Z",
     "iopub.status.busy": "2023-02-28T12:05:03.537929Z",
     "iopub.status.idle": "2023-02-28T12:05:03.550286Z",
     "shell.execute_reply": "2023-02-28T12:05:03.549209Z"
    },
    "papermill": {
     "duration": 0.024157,
     "end_time": "2023-02-28T12:05:03.552500",
     "exception": false,
     "start_time": "2023-02-28T12:05:03.528343",
     "status": "completed"
    },
    "tags": []
   },
   "outputs": [
    {
     "data": {
      "text/html": [
       "<div>\n",
       "<style scoped>\n",
       "    .dataframe tbody tr th:only-of-type {\n",
       "        vertical-align: middle;\n",
       "    }\n",
       "\n",
       "    .dataframe tbody tr th {\n",
       "        vertical-align: top;\n",
       "    }\n",
       "\n",
       "    .dataframe thead th {\n",
       "        text-align: right;\n",
       "    }\n",
       "</style>\n",
       "<table border=\"1\" class=\"dataframe\">\n",
       "  <thead>\n",
       "    <tr style=\"text-align: right;\">\n",
       "      <th></th>\n",
       "      <th>cfips</th>\n",
       "      <th>name</th>\n",
       "      <th>lng</th>\n",
       "      <th>lat</th>\n",
       "    </tr>\n",
       "  </thead>\n",
       "  <tbody>\n",
       "    <tr>\n",
       "      <th>0</th>\n",
       "      <td>1059</td>\n",
       "      <td>Franklin</td>\n",
       "      <td>-87.843283</td>\n",
       "      <td>34.442381</td>\n",
       "    </tr>\n",
       "    <tr>\n",
       "      <th>1</th>\n",
       "      <td>13111</td>\n",
       "      <td>Fannin</td>\n",
       "      <td>-84.319296</td>\n",
       "      <td>34.864126</td>\n",
       "    </tr>\n",
       "    <tr>\n",
       "      <th>2</th>\n",
       "      <td>19109</td>\n",
       "      <td>Kossuth</td>\n",
       "      <td>-94.206898</td>\n",
       "      <td>43.204140</td>\n",
       "    </tr>\n",
       "    <tr>\n",
       "      <th>3</th>\n",
       "      <td>40115</td>\n",
       "      <td>Ottawa</td>\n",
       "      <td>-94.810589</td>\n",
       "      <td>36.835878</td>\n",
       "    </tr>\n",
       "    <tr>\n",
       "      <th>4</th>\n",
       "      <td>42115</td>\n",
       "      <td>Susquehanna</td>\n",
       "      <td>-75.800905</td>\n",
       "      <td>41.821277</td>\n",
       "    </tr>\n",
       "  </tbody>\n",
       "</table>\n",
       "</div>"
      ],
      "text/plain": [
       "   cfips         name        lng        lat\n",
       "0   1059     Franklin -87.843283  34.442381\n",
       "1  13111       Fannin -84.319296  34.864126\n",
       "2  19109      Kossuth -94.206898  43.204140\n",
       "3  40115       Ottawa -94.810589  36.835878\n",
       "4  42115  Susquehanna -75.800905  41.821277"
      ]
     },
     "execution_count": 21,
     "metadata": {},
     "output_type": "execute_result"
    }
   ],
   "source": [
    "godaddy_coordinates.head()"
   ]
  },
  {
   "cell_type": "code",
   "execution_count": 22,
   "id": "da185a9c",
   "metadata": {
    "execution": {
     "iopub.execute_input": "2023-02-28T12:05:03.571324Z",
     "iopub.status.busy": "2023-02-28T12:05:03.570908Z",
     "iopub.status.idle": "2023-02-28T12:05:03.577496Z",
     "shell.execute_reply": "2023-02-28T12:05:03.576378Z"
    },
    "papermill": {
     "duration": 0.01899,
     "end_time": "2023-02-28T12:05:03.580048",
     "exception": false,
     "start_time": "2023-02-28T12:05:03.561058",
     "status": "completed"
    },
    "tags": []
   },
   "outputs": [],
   "source": [
    "godaddy_train['istest'] = 0\n",
    "godaddy_test['istest'] = 1"
   ]
  },
  {
   "cell_type": "code",
   "execution_count": 23,
   "id": "c68d6aa8",
   "metadata": {
    "execution": {
     "iopub.execute_input": "2023-02-28T12:05:03.599271Z",
     "iopub.status.busy": "2023-02-28T12:05:03.598827Z",
     "iopub.status.idle": "2023-02-28T12:05:03.936046Z",
     "shell.execute_reply": "2023-02-28T12:05:03.935068Z"
    },
    "papermill": {
     "duration": 0.349862,
     "end_time": "2023-02-28T12:05:03.938553",
     "exception": false,
     "start_time": "2023-02-28T12:05:03.588691",
     "status": "completed"
    },
    "tags": []
   },
   "outputs": [],
   "source": [
    "raw_data = pd.concat((godaddy_train,godaddy_test)).sort_values(['cfips','row_id']).reset_index(drop=True)\n",
    "raw_data = raw_data.merge(godaddy_coordinates.drop(\"name\",axis = 1),on=\"cfips\")"
   ]
  },
  {
   "cell_type": "code",
   "execution_count": 24,
   "id": "0fedb3ce",
   "metadata": {
    "execution": {
     "iopub.execute_input": "2023-02-28T12:05:03.957497Z",
     "iopub.status.busy": "2023-02-28T12:05:03.956727Z",
     "iopub.status.idle": "2023-02-28T12:05:03.973221Z",
     "shell.execute_reply": "2023-02-28T12:05:03.972440Z"
    },
    "papermill": {
     "duration": 0.028373,
     "end_time": "2023-02-28T12:05:03.975479",
     "exception": false,
     "start_time": "2023-02-28T12:05:03.947106",
     "status": "completed"
    },
    "tags": []
   },
   "outputs": [
    {
     "data": {
      "text/html": [
       "<div>\n",
       "<style scoped>\n",
       "    .dataframe tbody tr th:only-of-type {\n",
       "        vertical-align: middle;\n",
       "    }\n",
       "\n",
       "    .dataframe tbody tr th {\n",
       "        vertical-align: top;\n",
       "    }\n",
       "\n",
       "    .dataframe thead th {\n",
       "        text-align: right;\n",
       "    }\n",
       "</style>\n",
       "<table border=\"1\" class=\"dataframe\">\n",
       "  <thead>\n",
       "    <tr style=\"text-align: right;\">\n",
       "      <th></th>\n",
       "      <th>index</th>\n",
       "      <th>row_id</th>\n",
       "      <th>cfips</th>\n",
       "      <th>county</th>\n",
       "      <th>state</th>\n",
       "      <th>first_day_of_month</th>\n",
       "      <th>microbusiness_density</th>\n",
       "      <th>active</th>\n",
       "      <th>istest</th>\n",
       "      <th>lng</th>\n",
       "      <th>lat</th>\n",
       "    </tr>\n",
       "  </thead>\n",
       "  <tbody>\n",
       "    <tr>\n",
       "      <th>0</th>\n",
       "      <td>0.0</td>\n",
       "      <td>1001_2019-08-01</td>\n",
       "      <td>1001</td>\n",
       "      <td>Autauga County</td>\n",
       "      <td>Alabama</td>\n",
       "      <td>2019-08-01</td>\n",
       "      <td>3.007682</td>\n",
       "      <td>1249.0</td>\n",
       "      <td>0</td>\n",
       "      <td>-86.6429</td>\n",
       "      <td>32.535142</td>\n",
       "    </tr>\n",
       "    <tr>\n",
       "      <th>1</th>\n",
       "      <td>1.0</td>\n",
       "      <td>1001_2019-09-01</td>\n",
       "      <td>1001</td>\n",
       "      <td>Autauga County</td>\n",
       "      <td>Alabama</td>\n",
       "      <td>2019-09-01</td>\n",
       "      <td>2.884870</td>\n",
       "      <td>1198.0</td>\n",
       "      <td>0</td>\n",
       "      <td>-86.6429</td>\n",
       "      <td>32.535142</td>\n",
       "    </tr>\n",
       "    <tr>\n",
       "      <th>2</th>\n",
       "      <td>2.0</td>\n",
       "      <td>1001_2019-10-01</td>\n",
       "      <td>1001</td>\n",
       "      <td>Autauga County</td>\n",
       "      <td>Alabama</td>\n",
       "      <td>2019-10-01</td>\n",
       "      <td>3.055843</td>\n",
       "      <td>1269.0</td>\n",
       "      <td>0</td>\n",
       "      <td>-86.6429</td>\n",
       "      <td>32.535142</td>\n",
       "    </tr>\n",
       "    <tr>\n",
       "      <th>3</th>\n",
       "      <td>3.0</td>\n",
       "      <td>1001_2019-11-01</td>\n",
       "      <td>1001</td>\n",
       "      <td>Autauga County</td>\n",
       "      <td>Alabama</td>\n",
       "      <td>2019-11-01</td>\n",
       "      <td>2.993233</td>\n",
       "      <td>1243.0</td>\n",
       "      <td>0</td>\n",
       "      <td>-86.6429</td>\n",
       "      <td>32.535142</td>\n",
       "    </tr>\n",
       "    <tr>\n",
       "      <th>4</th>\n",
       "      <td>4.0</td>\n",
       "      <td>1001_2019-12-01</td>\n",
       "      <td>1001</td>\n",
       "      <td>Autauga County</td>\n",
       "      <td>Alabama</td>\n",
       "      <td>2019-12-01</td>\n",
       "      <td>2.993233</td>\n",
       "      <td>1243.0</td>\n",
       "      <td>0</td>\n",
       "      <td>-86.6429</td>\n",
       "      <td>32.535142</td>\n",
       "    </tr>\n",
       "  </tbody>\n",
       "</table>\n",
       "</div>"
      ],
      "text/plain": [
       "   index           row_id  cfips          county    state first_day_of_month  \\\n",
       "0    0.0  1001_2019-08-01   1001  Autauga County  Alabama         2019-08-01   \n",
       "1    1.0  1001_2019-09-01   1001  Autauga County  Alabama         2019-09-01   \n",
       "2    2.0  1001_2019-10-01   1001  Autauga County  Alabama         2019-10-01   \n",
       "3    3.0  1001_2019-11-01   1001  Autauga County  Alabama         2019-11-01   \n",
       "4    4.0  1001_2019-12-01   1001  Autauga County  Alabama         2019-12-01   \n",
       "\n",
       "   microbusiness_density  active  istest      lng        lat  \n",
       "0               3.007682  1249.0       0 -86.6429  32.535142  \n",
       "1               2.884870  1198.0       0 -86.6429  32.535142  \n",
       "2               3.055843  1269.0       0 -86.6429  32.535142  \n",
       "3               2.993233  1243.0       0 -86.6429  32.535142  \n",
       "4               2.993233  1243.0       0 -86.6429  32.535142  "
      ]
     },
     "execution_count": 24,
     "metadata": {},
     "output_type": "execute_result"
    }
   ],
   "source": [
    "raw_data.head()"
   ]
  },
  {
   "cell_type": "code",
   "execution_count": null,
   "id": "4c339d29",
   "metadata": {
    "papermill": {
     "duration": 0.008347,
     "end_time": "2023-02-28T12:05:03.992357",
     "exception": false,
     "start_time": "2023-02-28T12:05:03.984010",
     "status": "completed"
    },
    "tags": []
   },
   "outputs": [],
   "source": []
  }
 ],
 "metadata": {
  "kernelspec": {
   "display_name": "Python 3",
   "language": "python",
   "name": "python3"
  },
  "language_info": {
   "codemirror_mode": {
    "name": "ipython",
    "version": 3
   },
   "file_extension": ".py",
   "mimetype": "text/x-python",
   "name": "python",
   "nbconvert_exporter": "python",
   "pygments_lexer": "ipython3",
   "version": "3.7.12"
  },
  "papermill": {
   "default_parameters": {},
   "duration": 11.298978,
   "end_time": "2023-02-28T12:05:04.621827",
   "environment_variables": {},
   "exception": null,
   "input_path": "__notebook__.ipynb",
   "output_path": "__notebook__.ipynb",
   "parameters": {},
   "start_time": "2023-02-28T12:04:53.322849",
   "version": "2.3.4"
  }
 },
 "nbformat": 4,
 "nbformat_minor": 5
}
