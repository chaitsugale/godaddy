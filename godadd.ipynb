{
 "cells": [
  {
   "cell_type": "code",
   "execution_count": 1,
   "id": "a42c8ef1",
   "metadata": {
    "_cell_guid": "b1076dfc-b9ad-4769-8c92-a6c4dae69d19",
    "_uuid": "8f2839f25d086af736a60e9eeb907d3b93b6e0e5",
    "execution": {
     "iopub.execute_input": "2023-02-25T06:50:56.833296Z",
     "iopub.status.busy": "2023-02-25T06:50:56.832345Z",
     "iopub.status.idle": "2023-02-25T06:50:56.847589Z",
     "shell.execute_reply": "2023-02-25T06:50:56.846315Z"
    },
    "papermill": {
     "duration": 0.026677,
     "end_time": "2023-02-25T06:50:56.850439",
     "exception": false,
     "start_time": "2023-02-25T06:50:56.823762",
     "status": "completed"
    },
    "tags": []
   },
   "outputs": [
    {
     "name": "stdout",
     "output_type": "stream",
     "text": [
      "/kaggle/input/godaddy-microbusiness-density-forecasting/sample_submission.csv\n",
      "/kaggle/input/godaddy-microbusiness-density-forecasting/census_starter.csv\n",
      "/kaggle/input/godaddy-microbusiness-density-forecasting/revealed_test.csv\n",
      "/kaggle/input/godaddy-microbusiness-density-forecasting/train.csv\n",
      "/kaggle/input/godaddy-microbusiness-density-forecasting/test.csv\n"
     ]
    }
   ],
   "source": [
    "# This Python 3 environment comes with many helpful analytics libraries installed\n",
    "# It is defined by the kaggle/python Docker image: https://github.com/kaggle/docker-python\n",
    "# For example, here's several helpful packages to load\n",
    "\n",
    "import numpy as np # linear algebra\n",
    "import pandas as pd # data processing, CSV file I/O (e.g. pd.read_csv)\n",
    "\n",
    "# Input data files are available in the read-only \"../input/\" directory\n",
    "# For example, running this (by clicking run or pressing Shift+Enter) will list all files under the input directory\n",
    "\n",
    "import os\n",
    "for dirname, _, filenames in os.walk('/kaggle/input'):\n",
    "    for filename in filenames:\n",
    "        print(os.path.join(dirname, filename))\n",
    "\n",
    "# You can write up to 20GB to the current directory (/kaggle/working/) that gets preserved as output when you create a version using \"Save & Run All\" \n",
    "# You can also write temporary files to /kaggle/temp/, but they won't be saved outside of the current session"
   ]
  },
  {
   "cell_type": "code",
   "execution_count": 2,
   "id": "24380a82",
   "metadata": {
    "execution": {
     "iopub.execute_input": "2023-02-25T06:50:56.864251Z",
     "iopub.status.busy": "2023-02-25T06:50:56.863840Z",
     "iopub.status.idle": "2023-02-25T06:50:56.910685Z",
     "shell.execute_reply": "2023-02-25T06:50:56.909442Z"
    },
    "papermill": {
     "duration": 0.056965,
     "end_time": "2023-02-25T06:50:56.913509",
     "exception": false,
     "start_time": "2023-02-25T06:50:56.856544",
     "status": "completed"
    },
    "tags": []
   },
   "outputs": [],
   "source": [
    "godaddy_census = pd.read_csv('/kaggle/input/godaddy-microbusiness-density-forecasting/census_starter.csv')"
   ]
  },
  {
   "cell_type": "code",
   "execution_count": 3,
   "id": "20f384d7",
   "metadata": {
    "execution": {
     "iopub.execute_input": "2023-02-25T06:50:56.927040Z",
     "iopub.status.busy": "2023-02-25T06:50:56.926607Z",
     "iopub.status.idle": "2023-02-25T06:50:56.933753Z",
     "shell.execute_reply": "2023-02-25T06:50:56.932491Z"
    },
    "papermill": {
     "duration": 0.017327,
     "end_time": "2023-02-25T06:50:56.936708",
     "exception": false,
     "start_time": "2023-02-25T06:50:56.919381",
     "status": "completed"
    },
    "tags": []
   },
   "outputs": [
    {
     "name": "stdout",
     "output_type": "stream",
     "text": [
      "Index(['pct_bb_2017', 'pct_bb_2018', 'pct_bb_2019', 'pct_bb_2020',\n",
      "       'pct_bb_2021', 'cfips', 'pct_college_2017', 'pct_college_2018',\n",
      "       'pct_college_2019', 'pct_college_2020', 'pct_college_2021',\n",
      "       'pct_foreign_born_2017', 'pct_foreign_born_2018',\n",
      "       'pct_foreign_born_2019', 'pct_foreign_born_2020',\n",
      "       'pct_foreign_born_2021', 'pct_it_workers_2017', 'pct_it_workers_2018',\n",
      "       'pct_it_workers_2019', 'pct_it_workers_2020', 'pct_it_workers_2021',\n",
      "       'median_hh_inc_2017', 'median_hh_inc_2018', 'median_hh_inc_2019',\n",
      "       'median_hh_inc_2020', 'median_hh_inc_2021'],\n",
      "      dtype='object')\n"
     ]
    }
   ],
   "source": [
    "print(godaddy_census.columns)"
   ]
  },
  {
   "cell_type": "code",
   "execution_count": 4,
   "id": "44187f94",
   "metadata": {
    "execution": {
     "iopub.execute_input": "2023-02-25T06:50:56.951801Z",
     "iopub.status.busy": "2023-02-25T06:50:56.950439Z",
     "iopub.status.idle": "2023-02-25T06:50:56.996071Z",
     "shell.execute_reply": "2023-02-25T06:50:56.994653Z"
    },
    "papermill": {
     "duration": 0.055574,
     "end_time": "2023-02-25T06:50:56.998934",
     "exception": false,
     "start_time": "2023-02-25T06:50:56.943360",
     "status": "completed"
    },
    "tags": []
   },
   "outputs": [
    {
     "data": {
      "text/html": [
       "<div>\n",
       "<style scoped>\n",
       "    .dataframe tbody tr th:only-of-type {\n",
       "        vertical-align: middle;\n",
       "    }\n",
       "\n",
       "    .dataframe tbody tr th {\n",
       "        vertical-align: top;\n",
       "    }\n",
       "\n",
       "    .dataframe thead th {\n",
       "        text-align: right;\n",
       "    }\n",
       "</style>\n",
       "<table border=\"1\" class=\"dataframe\">\n",
       "  <thead>\n",
       "    <tr style=\"text-align: right;\">\n",
       "      <th></th>\n",
       "      <th>pct_bb_2017</th>\n",
       "      <th>pct_bb_2018</th>\n",
       "      <th>pct_bb_2019</th>\n",
       "      <th>pct_bb_2020</th>\n",
       "      <th>pct_bb_2021</th>\n",
       "      <th>cfips</th>\n",
       "      <th>pct_college_2017</th>\n",
       "      <th>pct_college_2018</th>\n",
       "      <th>pct_college_2019</th>\n",
       "      <th>pct_college_2020</th>\n",
       "      <th>...</th>\n",
       "      <th>pct_it_workers_2017</th>\n",
       "      <th>pct_it_workers_2018</th>\n",
       "      <th>pct_it_workers_2019</th>\n",
       "      <th>pct_it_workers_2020</th>\n",
       "      <th>pct_it_workers_2021</th>\n",
       "      <th>median_hh_inc_2017</th>\n",
       "      <th>median_hh_inc_2018</th>\n",
       "      <th>median_hh_inc_2019</th>\n",
       "      <th>median_hh_inc_2020</th>\n",
       "      <th>median_hh_inc_2021</th>\n",
       "    </tr>\n",
       "  </thead>\n",
       "  <tbody>\n",
       "    <tr>\n",
       "      <th>0</th>\n",
       "      <td>76.6</td>\n",
       "      <td>78.9</td>\n",
       "      <td>80.6</td>\n",
       "      <td>82.7</td>\n",
       "      <td>85.5</td>\n",
       "      <td>1001</td>\n",
       "      <td>14.5</td>\n",
       "      <td>15.9</td>\n",
       "      <td>16.1</td>\n",
       "      <td>16.7</td>\n",
       "      <td>...</td>\n",
       "      <td>1.3</td>\n",
       "      <td>1.1</td>\n",
       "      <td>0.7</td>\n",
       "      <td>0.6</td>\n",
       "      <td>1.1</td>\n",
       "      <td>55317</td>\n",
       "      <td>58786.0</td>\n",
       "      <td>58731</td>\n",
       "      <td>57982.0</td>\n",
       "      <td>62660.0</td>\n",
       "    </tr>\n",
       "    <tr>\n",
       "      <th>1</th>\n",
       "      <td>74.5</td>\n",
       "      <td>78.1</td>\n",
       "      <td>81.8</td>\n",
       "      <td>85.1</td>\n",
       "      <td>87.9</td>\n",
       "      <td>1003</td>\n",
       "      <td>20.4</td>\n",
       "      <td>20.7</td>\n",
       "      <td>21.0</td>\n",
       "      <td>20.2</td>\n",
       "      <td>...</td>\n",
       "      <td>1.4</td>\n",
       "      <td>1.3</td>\n",
       "      <td>1.4</td>\n",
       "      <td>1.0</td>\n",
       "      <td>1.3</td>\n",
       "      <td>52562</td>\n",
       "      <td>55962.0</td>\n",
       "      <td>58320</td>\n",
       "      <td>61756.0</td>\n",
       "      <td>64346.0</td>\n",
       "    </tr>\n",
       "    <tr>\n",
       "      <th>2</th>\n",
       "      <td>57.2</td>\n",
       "      <td>60.4</td>\n",
       "      <td>60.5</td>\n",
       "      <td>64.6</td>\n",
       "      <td>64.6</td>\n",
       "      <td>1005</td>\n",
       "      <td>7.6</td>\n",
       "      <td>7.8</td>\n",
       "      <td>7.6</td>\n",
       "      <td>7.3</td>\n",
       "      <td>...</td>\n",
       "      <td>0.5</td>\n",
       "      <td>0.3</td>\n",
       "      <td>0.8</td>\n",
       "      <td>1.1</td>\n",
       "      <td>0.8</td>\n",
       "      <td>33368</td>\n",
       "      <td>34186.0</td>\n",
       "      <td>32525</td>\n",
       "      <td>34990.0</td>\n",
       "      <td>36422.0</td>\n",
       "    </tr>\n",
       "    <tr>\n",
       "      <th>3</th>\n",
       "      <td>62.0</td>\n",
       "      <td>66.1</td>\n",
       "      <td>69.2</td>\n",
       "      <td>76.1</td>\n",
       "      <td>74.6</td>\n",
       "      <td>1007</td>\n",
       "      <td>8.1</td>\n",
       "      <td>7.6</td>\n",
       "      <td>6.5</td>\n",
       "      <td>7.4</td>\n",
       "      <td>...</td>\n",
       "      <td>1.2</td>\n",
       "      <td>1.4</td>\n",
       "      <td>1.6</td>\n",
       "      <td>1.7</td>\n",
       "      <td>2.1</td>\n",
       "      <td>43404</td>\n",
       "      <td>45340.0</td>\n",
       "      <td>47542</td>\n",
       "      <td>51721.0</td>\n",
       "      <td>54277.0</td>\n",
       "    </tr>\n",
       "    <tr>\n",
       "      <th>4</th>\n",
       "      <td>65.8</td>\n",
       "      <td>68.5</td>\n",
       "      <td>73.0</td>\n",
       "      <td>79.6</td>\n",
       "      <td>81.0</td>\n",
       "      <td>1009</td>\n",
       "      <td>8.7</td>\n",
       "      <td>8.1</td>\n",
       "      <td>8.6</td>\n",
       "      <td>8.9</td>\n",
       "      <td>...</td>\n",
       "      <td>1.3</td>\n",
       "      <td>1.4</td>\n",
       "      <td>0.9</td>\n",
       "      <td>1.1</td>\n",
       "      <td>0.9</td>\n",
       "      <td>47412</td>\n",
       "      <td>48695.0</td>\n",
       "      <td>49358</td>\n",
       "      <td>48922.0</td>\n",
       "      <td>52830.0</td>\n",
       "    </tr>\n",
       "  </tbody>\n",
       "</table>\n",
       "<p>5 rows × 26 columns</p>\n",
       "</div>"
      ],
      "text/plain": [
       "   pct_bb_2017  pct_bb_2018  pct_bb_2019  pct_bb_2020  pct_bb_2021  cfips  \\\n",
       "0         76.6         78.9         80.6         82.7         85.5   1001   \n",
       "1         74.5         78.1         81.8         85.1         87.9   1003   \n",
       "2         57.2         60.4         60.5         64.6         64.6   1005   \n",
       "3         62.0         66.1         69.2         76.1         74.6   1007   \n",
       "4         65.8         68.5         73.0         79.6         81.0   1009   \n",
       "\n",
       "   pct_college_2017  pct_college_2018  pct_college_2019  pct_college_2020  \\\n",
       "0              14.5              15.9              16.1              16.7   \n",
       "1              20.4              20.7              21.0              20.2   \n",
       "2               7.6               7.8               7.6               7.3   \n",
       "3               8.1               7.6               6.5               7.4   \n",
       "4               8.7               8.1               8.6               8.9   \n",
       "\n",
       "   ...  pct_it_workers_2017  pct_it_workers_2018  pct_it_workers_2019  \\\n",
       "0  ...                  1.3                  1.1                  0.7   \n",
       "1  ...                  1.4                  1.3                  1.4   \n",
       "2  ...                  0.5                  0.3                  0.8   \n",
       "3  ...                  1.2                  1.4                  1.6   \n",
       "4  ...                  1.3                  1.4                  0.9   \n",
       "\n",
       "   pct_it_workers_2020  pct_it_workers_2021  median_hh_inc_2017  \\\n",
       "0                  0.6                  1.1               55317   \n",
       "1                  1.0                  1.3               52562   \n",
       "2                  1.1                  0.8               33368   \n",
       "3                  1.7                  2.1               43404   \n",
       "4                  1.1                  0.9               47412   \n",
       "\n",
       "   median_hh_inc_2018  median_hh_inc_2019  median_hh_inc_2020  \\\n",
       "0             58786.0               58731             57982.0   \n",
       "1             55962.0               58320             61756.0   \n",
       "2             34186.0               32525             34990.0   \n",
       "3             45340.0               47542             51721.0   \n",
       "4             48695.0               49358             48922.0   \n",
       "\n",
       "   median_hh_inc_2021  \n",
       "0             62660.0  \n",
       "1             64346.0  \n",
       "2             36422.0  \n",
       "3             54277.0  \n",
       "4             52830.0  \n",
       "\n",
       "[5 rows x 26 columns]"
      ]
     },
     "execution_count": 4,
     "metadata": {},
     "output_type": "execute_result"
    }
   ],
   "source": [
    "godaddy_census.head()"
   ]
  },
  {
   "cell_type": "code",
   "execution_count": 5,
   "id": "e2a66448",
   "metadata": {
    "execution": {
     "iopub.execute_input": "2023-02-25T06:50:57.013387Z",
     "iopub.status.busy": "2023-02-25T06:50:57.012948Z",
     "iopub.status.idle": "2023-02-25T06:50:57.387494Z",
     "shell.execute_reply": "2023-02-25T06:50:57.386379Z"
    },
    "papermill": {
     "duration": 0.385209,
     "end_time": "2023-02-25T06:50:57.390559",
     "exception": false,
     "start_time": "2023-02-25T06:50:57.005350",
     "status": "completed"
    },
    "tags": []
   },
   "outputs": [],
   "source": [
    "godaddy_revealed = pd.read_csv('/kaggle/input/godaddy-microbusiness-density-forecasting/revealed_test.csv')\n",
    "godaddy_train = pd.read_csv('/kaggle/input/godaddy-microbusiness-density-forecasting/train.csv')"
   ]
  },
  {
   "cell_type": "code",
   "execution_count": 6,
   "id": "3d0922b3",
   "metadata": {
    "execution": {
     "iopub.execute_input": "2023-02-25T06:50:57.408876Z",
     "iopub.status.busy": "2023-02-25T06:50:57.408404Z",
     "iopub.status.idle": "2023-02-25T06:50:57.414920Z",
     "shell.execute_reply": "2023-02-25T06:50:57.413567Z"
    },
    "papermill": {
     "duration": 0.018959,
     "end_time": "2023-02-25T06:50:57.419074",
     "exception": false,
     "start_time": "2023-02-25T06:50:57.400115",
     "status": "completed"
    },
    "tags": []
   },
   "outputs": [
    {
     "name": "stdout",
     "output_type": "stream",
     "text": [
      "Index(['row_id', 'cfips', 'county', 'state', 'first_day_of_month',\n",
      "       'microbusiness_density', 'active'],\n",
      "      dtype='object')\n"
     ]
    }
   ],
   "source": [
    "print(godaddy_train.columns)"
   ]
  },
  {
   "cell_type": "code",
   "execution_count": 7,
   "id": "e358ad46",
   "metadata": {
    "execution": {
     "iopub.execute_input": "2023-02-25T06:50:57.436605Z",
     "iopub.status.busy": "2023-02-25T06:50:57.435231Z",
     "iopub.status.idle": "2023-02-25T06:50:57.442531Z",
     "shell.execute_reply": "2023-02-25T06:50:57.440731Z"
    },
    "papermill": {
     "duration": 0.018207,
     "end_time": "2023-02-25T06:50:57.445219",
     "exception": false,
     "start_time": "2023-02-25T06:50:57.427012",
     "status": "completed"
    },
    "tags": []
   },
   "outputs": [
    {
     "name": "stdout",
     "output_type": "stream",
     "text": [
      "Index(['row_id', 'cfips', 'county', 'state', 'first_day_of_month',\n",
      "       'microbusiness_density', 'active'],\n",
      "      dtype='object')\n"
     ]
    }
   ],
   "source": [
    "print(godaddy_revealed.columns)"
   ]
  },
  {
   "cell_type": "code",
   "execution_count": 8,
   "id": "3fe8c9b6",
   "metadata": {
    "execution": {
     "iopub.execute_input": "2023-02-25T06:50:57.460156Z",
     "iopub.status.busy": "2023-02-25T06:50:57.459750Z",
     "iopub.status.idle": "2023-02-25T06:50:57.474462Z",
     "shell.execute_reply": "2023-02-25T06:50:57.473259Z"
    },
    "papermill": {
     "duration": 0.025341,
     "end_time": "2023-02-25T06:50:57.476977",
     "exception": false,
     "start_time": "2023-02-25T06:50:57.451636",
     "status": "completed"
    },
    "tags": []
   },
   "outputs": [
    {
     "data": {
      "text/html": [
       "<div>\n",
       "<style scoped>\n",
       "    .dataframe tbody tr th:only-of-type {\n",
       "        vertical-align: middle;\n",
       "    }\n",
       "\n",
       "    .dataframe tbody tr th {\n",
       "        vertical-align: top;\n",
       "    }\n",
       "\n",
       "    .dataframe thead th {\n",
       "        text-align: right;\n",
       "    }\n",
       "</style>\n",
       "<table border=\"1\" class=\"dataframe\">\n",
       "  <thead>\n",
       "    <tr style=\"text-align: right;\">\n",
       "      <th></th>\n",
       "      <th>row_id</th>\n",
       "      <th>cfips</th>\n",
       "      <th>county</th>\n",
       "      <th>state</th>\n",
       "      <th>first_day_of_month</th>\n",
       "      <th>microbusiness_density</th>\n",
       "      <th>active</th>\n",
       "    </tr>\n",
       "  </thead>\n",
       "  <tbody>\n",
       "    <tr>\n",
       "      <th>0</th>\n",
       "      <td>1001_2019-08-01</td>\n",
       "      <td>1001</td>\n",
       "      <td>Autauga County</td>\n",
       "      <td>Alabama</td>\n",
       "      <td>2019-08-01</td>\n",
       "      <td>3.007682</td>\n",
       "      <td>1249</td>\n",
       "    </tr>\n",
       "    <tr>\n",
       "      <th>1</th>\n",
       "      <td>1001_2019-09-01</td>\n",
       "      <td>1001</td>\n",
       "      <td>Autauga County</td>\n",
       "      <td>Alabama</td>\n",
       "      <td>2019-09-01</td>\n",
       "      <td>2.884870</td>\n",
       "      <td>1198</td>\n",
       "    </tr>\n",
       "    <tr>\n",
       "      <th>2</th>\n",
       "      <td>1001_2019-10-01</td>\n",
       "      <td>1001</td>\n",
       "      <td>Autauga County</td>\n",
       "      <td>Alabama</td>\n",
       "      <td>2019-10-01</td>\n",
       "      <td>3.055843</td>\n",
       "      <td>1269</td>\n",
       "    </tr>\n",
       "    <tr>\n",
       "      <th>3</th>\n",
       "      <td>1001_2019-11-01</td>\n",
       "      <td>1001</td>\n",
       "      <td>Autauga County</td>\n",
       "      <td>Alabama</td>\n",
       "      <td>2019-11-01</td>\n",
       "      <td>2.993233</td>\n",
       "      <td>1243</td>\n",
       "    </tr>\n",
       "    <tr>\n",
       "      <th>4</th>\n",
       "      <td>1001_2019-12-01</td>\n",
       "      <td>1001</td>\n",
       "      <td>Autauga County</td>\n",
       "      <td>Alabama</td>\n",
       "      <td>2019-12-01</td>\n",
       "      <td>2.993233</td>\n",
       "      <td>1243</td>\n",
       "    </tr>\n",
       "  </tbody>\n",
       "</table>\n",
       "</div>"
      ],
      "text/plain": [
       "            row_id  cfips          county    state first_day_of_month  \\\n",
       "0  1001_2019-08-01   1001  Autauga County  Alabama         2019-08-01   \n",
       "1  1001_2019-09-01   1001  Autauga County  Alabama         2019-09-01   \n",
       "2  1001_2019-10-01   1001  Autauga County  Alabama         2019-10-01   \n",
       "3  1001_2019-11-01   1001  Autauga County  Alabama         2019-11-01   \n",
       "4  1001_2019-12-01   1001  Autauga County  Alabama         2019-12-01   \n",
       "\n",
       "   microbusiness_density  active  \n",
       "0               3.007682    1249  \n",
       "1               2.884870    1198  \n",
       "2               3.055843    1269  \n",
       "3               2.993233    1243  \n",
       "4               2.993233    1243  "
      ]
     },
     "execution_count": 8,
     "metadata": {},
     "output_type": "execute_result"
    }
   ],
   "source": [
    "godaddy_train.head()"
   ]
  },
  {
   "cell_type": "code",
   "execution_count": 9,
   "id": "72aa4cc7",
   "metadata": {
    "execution": {
     "iopub.execute_input": "2023-02-25T06:50:57.492044Z",
     "iopub.status.busy": "2023-02-25T06:50:57.491640Z",
     "iopub.status.idle": "2023-02-25T06:50:57.499142Z",
     "shell.execute_reply": "2023-02-25T06:50:57.498040Z"
    },
    "papermill": {
     "duration": 0.018262,
     "end_time": "2023-02-25T06:50:57.501864",
     "exception": false,
     "start_time": "2023-02-25T06:50:57.483602",
     "status": "completed"
    },
    "tags": []
   },
   "outputs": [
    {
     "data": {
      "text/plain": [
       "(122265, 7)"
      ]
     },
     "execution_count": 9,
     "metadata": {},
     "output_type": "execute_result"
    }
   ],
   "source": [
    "godaddy_train.shape"
   ]
  },
  {
   "cell_type": "code",
   "execution_count": null,
   "id": "5c267bb4",
   "metadata": {
    "papermill": {
     "duration": 0.007036,
     "end_time": "2023-02-25T06:50:57.515946",
     "exception": false,
     "start_time": "2023-02-25T06:50:57.508910",
     "status": "completed"
    },
    "tags": []
   },
   "outputs": [],
   "source": []
  },
  {
   "cell_type": "raw",
   "id": "8ba4c841",
   "metadata": {
    "execution": {
     "iopub.execute_input": "2023-02-25T06:16:24.177605Z",
     "iopub.status.busy": "2023-02-25T06:16:24.177192Z",
     "iopub.status.idle": "2023-02-25T06:16:24.189384Z",
     "shell.execute_reply": "2023-02-25T06:16:24.188696Z",
     "shell.execute_reply.started": "2023-02-25T06:16:24.177567Z"
    },
    "papermill": {
     "duration": 0.006574,
     "end_time": "2023-02-25T06:50:57.529427",
     "exception": false,
     "start_time": "2023-02-25T06:50:57.522853",
     "status": "completed"
    },
    "tags": []
   },
   "source": [
    "godaddy_revealed.head()"
   ]
  },
  {
   "cell_type": "code",
   "execution_count": 10,
   "id": "b395fdef",
   "metadata": {
    "execution": {
     "iopub.execute_input": "2023-02-25T06:50:57.545610Z",
     "iopub.status.busy": "2023-02-25T06:50:57.545178Z",
     "iopub.status.idle": "2023-02-25T06:50:57.669698Z",
     "shell.execute_reply": "2023-02-25T06:50:57.668791Z"
    },
    "papermill": {
     "duration": 0.136055,
     "end_time": "2023-02-25T06:50:57.672346",
     "exception": false,
     "start_time": "2023-02-25T06:50:57.536291",
     "status": "completed"
    },
    "tags": []
   },
   "outputs": [],
   "source": [
    "godaddy_train = pd.concat([godaddy_train,godaddy_revealed]).sort_values(by = ['cfips','first_day_of_month']).reset_index()"
   ]
  },
  {
   "cell_type": "code",
   "execution_count": 11,
   "id": "f1b96311",
   "metadata": {
    "execution": {
     "iopub.execute_input": "2023-02-25T06:50:57.688074Z",
     "iopub.status.busy": "2023-02-25T06:50:57.686974Z",
     "iopub.status.idle": "2023-02-25T06:50:57.696461Z",
     "shell.execute_reply": "2023-02-25T06:50:57.695465Z"
    },
    "papermill": {
     "duration": 0.020117,
     "end_time": "2023-02-25T06:50:57.699165",
     "exception": false,
     "start_time": "2023-02-25T06:50:57.679048",
     "status": "completed"
    },
    "tags": []
   },
   "outputs": [
    {
     "data": {
      "text/plain": [
       "(128535, 8)"
      ]
     },
     "execution_count": 11,
     "metadata": {},
     "output_type": "execute_result"
    }
   ],
   "source": [
    "godaddy_train.shape"
   ]
  },
  {
   "cell_type": "code",
   "execution_count": 12,
   "id": "626cbcd6",
   "metadata": {
    "execution": {
     "iopub.execute_input": "2023-02-25T06:50:57.715107Z",
     "iopub.status.busy": "2023-02-25T06:50:57.714714Z",
     "iopub.status.idle": "2023-02-25T06:50:57.753071Z",
     "shell.execute_reply": "2023-02-25T06:50:57.752163Z"
    },
    "papermill": {
     "duration": 0.049061,
     "end_time": "2023-02-25T06:50:57.755804",
     "exception": false,
     "start_time": "2023-02-25T06:50:57.706743",
     "status": "completed"
    },
    "tags": []
   },
   "outputs": [],
   "source": [
    "godaddy_test = pd.read_csv('/kaggle/input/godaddy-microbusiness-density-forecasting/test.csv')"
   ]
  },
  {
   "cell_type": "code",
   "execution_count": 13,
   "id": "96e2cc4d",
   "metadata": {
    "execution": {
     "iopub.execute_input": "2023-02-25T06:50:57.771477Z",
     "iopub.status.busy": "2023-02-25T06:50:57.770348Z",
     "iopub.status.idle": "2023-02-25T06:50:57.777701Z",
     "shell.execute_reply": "2023-02-25T06:50:57.776454Z"
    },
    "papermill": {
     "duration": 0.017512,
     "end_time": "2023-02-25T06:50:57.779948",
     "exception": false,
     "start_time": "2023-02-25T06:50:57.762436",
     "status": "completed"
    },
    "tags": []
   },
   "outputs": [
    {
     "data": {
      "text/plain": [
       "(25080, 3)"
      ]
     },
     "execution_count": 13,
     "metadata": {},
     "output_type": "execute_result"
    }
   ],
   "source": [
    "godaddy_test.shape"
   ]
  },
  {
   "cell_type": "code",
   "execution_count": 14,
   "id": "5d68918b",
   "metadata": {
    "execution": {
     "iopub.execute_input": "2023-02-25T06:50:57.795782Z",
     "iopub.status.busy": "2023-02-25T06:50:57.794805Z",
     "iopub.status.idle": "2023-02-25T06:50:57.801534Z",
     "shell.execute_reply": "2023-02-25T06:50:57.800185Z"
    },
    "papermill": {
     "duration": 0.017008,
     "end_time": "2023-02-25T06:50:57.803727",
     "exception": false,
     "start_time": "2023-02-25T06:50:57.786719",
     "status": "completed"
    },
    "tags": []
   },
   "outputs": [
    {
     "name": "stdout",
     "output_type": "stream",
     "text": [
      "Index(['row_id', 'cfips', 'first_day_of_month'], dtype='object')\n"
     ]
    }
   ],
   "source": [
    "print(godaddy_test.columns)"
   ]
  },
  {
   "cell_type": "code",
   "execution_count": 15,
   "id": "bf133881",
   "metadata": {
    "execution": {
     "iopub.execute_input": "2023-02-25T06:50:57.819399Z",
     "iopub.status.busy": "2023-02-25T06:50:57.818986Z",
     "iopub.status.idle": "2023-02-25T06:50:57.830059Z",
     "shell.execute_reply": "2023-02-25T06:50:57.828998Z"
    },
    "papermill": {
     "duration": 0.021725,
     "end_time": "2023-02-25T06:50:57.832248",
     "exception": false,
     "start_time": "2023-02-25T06:50:57.810523",
     "status": "completed"
    },
    "tags": []
   },
   "outputs": [
    {
     "data": {
      "text/html": [
       "<div>\n",
       "<style scoped>\n",
       "    .dataframe tbody tr th:only-of-type {\n",
       "        vertical-align: middle;\n",
       "    }\n",
       "\n",
       "    .dataframe tbody tr th {\n",
       "        vertical-align: top;\n",
       "    }\n",
       "\n",
       "    .dataframe thead th {\n",
       "        text-align: right;\n",
       "    }\n",
       "</style>\n",
       "<table border=\"1\" class=\"dataframe\">\n",
       "  <thead>\n",
       "    <tr style=\"text-align: right;\">\n",
       "      <th></th>\n",
       "      <th>row_id</th>\n",
       "      <th>cfips</th>\n",
       "      <th>first_day_of_month</th>\n",
       "    </tr>\n",
       "  </thead>\n",
       "  <tbody>\n",
       "    <tr>\n",
       "      <th>0</th>\n",
       "      <td>1001_2022-11-01</td>\n",
       "      <td>1001</td>\n",
       "      <td>2022-11-01</td>\n",
       "    </tr>\n",
       "    <tr>\n",
       "      <th>1</th>\n",
       "      <td>1003_2022-11-01</td>\n",
       "      <td>1003</td>\n",
       "      <td>2022-11-01</td>\n",
       "    </tr>\n",
       "    <tr>\n",
       "      <th>2</th>\n",
       "      <td>1005_2022-11-01</td>\n",
       "      <td>1005</td>\n",
       "      <td>2022-11-01</td>\n",
       "    </tr>\n",
       "    <tr>\n",
       "      <th>3</th>\n",
       "      <td>1007_2022-11-01</td>\n",
       "      <td>1007</td>\n",
       "      <td>2022-11-01</td>\n",
       "    </tr>\n",
       "    <tr>\n",
       "      <th>4</th>\n",
       "      <td>1009_2022-11-01</td>\n",
       "      <td>1009</td>\n",
       "      <td>2022-11-01</td>\n",
       "    </tr>\n",
       "  </tbody>\n",
       "</table>\n",
       "</div>"
      ],
      "text/plain": [
       "            row_id  cfips first_day_of_month\n",
       "0  1001_2022-11-01   1001         2022-11-01\n",
       "1  1003_2022-11-01   1003         2022-11-01\n",
       "2  1005_2022-11-01   1005         2022-11-01\n",
       "3  1007_2022-11-01   1007         2022-11-01\n",
       "4  1009_2022-11-01   1009         2022-11-01"
      ]
     },
     "execution_count": 15,
     "metadata": {},
     "output_type": "execute_result"
    }
   ],
   "source": [
    "godaddy_test.head()"
   ]
  },
  {
   "cell_type": "code",
   "execution_count": 16,
   "id": "cbe3e384",
   "metadata": {
    "execution": {
     "iopub.execute_input": "2023-02-25T06:50:57.848511Z",
     "iopub.status.busy": "2023-02-25T06:50:57.847557Z",
     "iopub.status.idle": "2023-02-25T06:50:57.859451Z",
     "shell.execute_reply": "2023-02-25T06:50:57.858144Z"
    },
    "papermill": {
     "duration": 0.022891,
     "end_time": "2023-02-25T06:50:57.862104",
     "exception": false,
     "start_time": "2023-02-25T06:50:57.839213",
     "status": "completed"
    },
    "tags": []
   },
   "outputs": [],
   "source": [
    "drop_index = (godaddy_test.first_day_of_month == '2022-11-01') | (godaddy_test.first_day_of_month == '2022-12-01')"
   ]
  },
  {
   "cell_type": "code",
   "execution_count": 17,
   "id": "38c7c2d6",
   "metadata": {
    "execution": {
     "iopub.execute_input": "2023-02-25T06:50:57.878199Z",
     "iopub.status.busy": "2023-02-25T06:50:57.877735Z",
     "iopub.status.idle": "2023-02-25T06:50:57.885522Z",
     "shell.execute_reply": "2023-02-25T06:50:57.884426Z"
    },
    "papermill": {
     "duration": 0.01896,
     "end_time": "2023-02-25T06:50:57.888250",
     "exception": false,
     "start_time": "2023-02-25T06:50:57.869290",
     "status": "completed"
    },
    "tags": []
   },
   "outputs": [],
   "source": [
    "godaddy_test = godaddy_test.loc[~drop_index,:]"
   ]
  },
  {
   "cell_type": "code",
   "execution_count": 18,
   "id": "5151b6fc",
   "metadata": {
    "execution": {
     "iopub.execute_input": "2023-02-25T06:50:57.905350Z",
     "iopub.status.busy": "2023-02-25T06:50:57.904184Z",
     "iopub.status.idle": "2023-02-25T06:50:57.912490Z",
     "shell.execute_reply": "2023-02-25T06:50:57.911290Z"
    },
    "papermill": {
     "duration": 0.019277,
     "end_time": "2023-02-25T06:50:57.914857",
     "exception": false,
     "start_time": "2023-02-25T06:50:57.895580",
     "status": "completed"
    },
    "tags": []
   },
   "outputs": [
    {
     "data": {
      "text/plain": [
       "(18810, 3)"
      ]
     },
     "execution_count": 18,
     "metadata": {},
     "output_type": "execute_result"
    }
   ],
   "source": [
    "godaddy_test.shape"
   ]
  },
  {
   "cell_type": "code",
   "execution_count": 19,
   "id": "7f1401db",
   "metadata": {
    "execution": {
     "iopub.execute_input": "2023-02-25T06:50:57.930709Z",
     "iopub.status.busy": "2023-02-25T06:50:57.930290Z",
     "iopub.status.idle": "2023-02-25T06:50:57.941992Z",
     "shell.execute_reply": "2023-02-25T06:50:57.940837Z"
    },
    "papermill": {
     "duration": 0.02236,
     "end_time": "2023-02-25T06:50:57.944267",
     "exception": false,
     "start_time": "2023-02-25T06:50:57.921907",
     "status": "completed"
    },
    "tags": []
   },
   "outputs": [
    {
     "data": {
      "text/html": [
       "<div>\n",
       "<style scoped>\n",
       "    .dataframe tbody tr th:only-of-type {\n",
       "        vertical-align: middle;\n",
       "    }\n",
       "\n",
       "    .dataframe tbody tr th {\n",
       "        vertical-align: top;\n",
       "    }\n",
       "\n",
       "    .dataframe thead th {\n",
       "        text-align: right;\n",
       "    }\n",
       "</style>\n",
       "<table border=\"1\" class=\"dataframe\">\n",
       "  <thead>\n",
       "    <tr style=\"text-align: right;\">\n",
       "      <th></th>\n",
       "      <th>row_id</th>\n",
       "      <th>cfips</th>\n",
       "      <th>first_day_of_month</th>\n",
       "    </tr>\n",
       "  </thead>\n",
       "  <tbody>\n",
       "    <tr>\n",
       "      <th>6270</th>\n",
       "      <td>1001_2023-01-01</td>\n",
       "      <td>1001</td>\n",
       "      <td>2023-01-01</td>\n",
       "    </tr>\n",
       "    <tr>\n",
       "      <th>6271</th>\n",
       "      <td>1003_2023-01-01</td>\n",
       "      <td>1003</td>\n",
       "      <td>2023-01-01</td>\n",
       "    </tr>\n",
       "    <tr>\n",
       "      <th>6272</th>\n",
       "      <td>1005_2023-01-01</td>\n",
       "      <td>1005</td>\n",
       "      <td>2023-01-01</td>\n",
       "    </tr>\n",
       "    <tr>\n",
       "      <th>6273</th>\n",
       "      <td>1007_2023-01-01</td>\n",
       "      <td>1007</td>\n",
       "      <td>2023-01-01</td>\n",
       "    </tr>\n",
       "    <tr>\n",
       "      <th>6274</th>\n",
       "      <td>1009_2023-01-01</td>\n",
       "      <td>1009</td>\n",
       "      <td>2023-01-01</td>\n",
       "    </tr>\n",
       "  </tbody>\n",
       "</table>\n",
       "</div>"
      ],
      "text/plain": [
       "               row_id  cfips first_day_of_month\n",
       "6270  1001_2023-01-01   1001         2023-01-01\n",
       "6271  1003_2023-01-01   1003         2023-01-01\n",
       "6272  1005_2023-01-01   1005         2023-01-01\n",
       "6273  1007_2023-01-01   1007         2023-01-01\n",
       "6274  1009_2023-01-01   1009         2023-01-01"
      ]
     },
     "execution_count": 19,
     "metadata": {},
     "output_type": "execute_result"
    }
   ],
   "source": [
    "godaddy_test.head()"
   ]
  },
  {
   "cell_type": "code",
   "execution_count": null,
   "id": "3e5d663d",
   "metadata": {
    "papermill": {
     "duration": 0.006875,
     "end_time": "2023-02-25T06:50:57.958454",
     "exception": false,
     "start_time": "2023-02-25T06:50:57.951579",
     "status": "completed"
    },
    "tags": []
   },
   "outputs": [],
   "source": []
  }
 ],
 "metadata": {
  "kernelspec": {
   "display_name": "Python 3",
   "language": "python",
   "name": "python3"
  },
  "language_info": {
   "codemirror_mode": {
    "name": "ipython",
    "version": 3
   },
   "file_extension": ".py",
   "mimetype": "text/x-python",
   "name": "python",
   "nbconvert_exporter": "python",
   "pygments_lexer": "ipython3",
   "version": "3.7.12"
  },
  "papermill": {
   "default_parameters": {},
   "duration": 12.920929,
   "end_time": "2023-02-25T06:50:58.687861",
   "environment_variables": {},
   "exception": null,
   "input_path": "__notebook__.ipynb",
   "output_path": "__notebook__.ipynb",
   "parameters": {},
   "start_time": "2023-02-25T06:50:45.766932",
   "version": "2.3.4"
  }
 },
 "nbformat": 4,
 "nbformat_minor": 5
}
